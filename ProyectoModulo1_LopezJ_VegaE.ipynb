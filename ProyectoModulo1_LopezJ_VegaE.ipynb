{
  "cells": [
    {
      "cell_type": "markdown",
      "metadata": {
        "id": "view-in-github",
        "colab_type": "text"
      },
      "source": [
        "<a href=\"https://colab.research.google.com/github/ErikVegaC/Proyecto_Modulo_1_Portafolio_de_Inversion/blob/main/ProyectoModulo1_LopezJ_VegaE.ipynb\" target=\"_parent\"><img src=\"https://colab.research.google.com/assets/colab-badge.svg\" alt=\"Open In Colab\"/></a>"
      ]
    },
    {
      "cell_type": "markdown",
      "id": "c43de9ae-6a16-4c7b-88a5-ffb3af703d1e",
      "metadata": {
        "id": "c43de9ae-6a16-4c7b-88a5-ffb3af703d1e"
      },
      "source": [
        "# INSTITUTO DE ESTUDIOS SUPERIORES DE OCCIDENTE #"
      ]
    },
    {
      "cell_type": "markdown",
      "id": "745d2848-b4ee-4836-9923-7f3ae2371c09",
      "metadata": {
        "id": "745d2848-b4ee-4836-9923-7f3ae2371c09"
      },
      "source": [
        "## 2.1 Construcción de un portafolio de inversión con programación lineal ##"
      ]
    },
    {
      "cell_type": "markdown",
      "id": "c0746ff2-996b-4005-9cb2-d3711b8a6a7a",
      "metadata": {
        "id": "c0746ff2-996b-4005-9cb2-d3711b8a6a7a"
      },
      "source": [
        "*Profesor Gabriel Alejandro Morales*"
      ]
    },
    {
      "cell_type": "markdown",
      "id": "4d6fb10f-740b-45fb-a330-295fa95e3ad0",
      "metadata": {
        "id": "4d6fb10f-740b-45fb-a330-295fa95e3ad0"
      },
      "source": [
        "Alumnos:\n",
        "* Juan Ramón López Rocha\n",
        "* Erik Vega Sánchez"
      ]
    },
    {
      "cell_type": "markdown",
      "id": "57b68ffb-0c2e-4bdc-b727-f6dfd8dec181",
      "metadata": {
        "id": "57b68ffb-0c2e-4bdc-b727-f6dfd8dec181"
      },
      "source": [
        "*3 de Octubre*"
      ]
    },
    {
      "cell_type": "markdown",
      "id": "3be58c98-b49f-41a0-8ea7-a95c7e2d0792",
      "metadata": {
        "id": "3be58c98-b49f-41a0-8ea7-a95c7e2d0792"
      },
      "source": [
        "## 2.2 Objetivos"
      ]
    },
    {
      "cell_type": "markdown",
      "id": "4fb686f3-7332-4357-a0db-fb0010f1f99e",
      "metadata": {
        "id": "4fb686f3-7332-4357-a0db-fb0010f1f99e"
      },
      "source": [
        "### 1.1 Objetivo general"
      ]
    },
    {
      "cell_type": "markdown",
      "id": "46601c30-6a1b-450c-b104-6ba658a13276",
      "metadata": {
        "id": "46601c30-6a1b-450c-b104-6ba658a13276"
      },
      "source": [
        "* Vamos a maximizar los rendimientos de un portafolio de inversión encontrando las ponderaciones adecuadas a invertir para cada uno de los activos"
      ]
    },
    {
      "cell_type": "markdown",
      "id": "1c51b902-dcb4-4b0c-aab0-1ecd14401338",
      "metadata": {
        "id": "1c51b902-dcb4-4b0c-aab0-1ecd14401338"
      },
      "source": [
        "### 1.2 Objetivos específicos"
      ]
    },
    {
      "cell_type": "markdown",
      "id": "91df0b45-6176-4e05-becf-a83849d5791a",
      "metadata": {
        "id": "91df0b45-6176-4e05-becf-a83849d5791a"
      },
      "source": [
        "* Seleccionar los activos a invertir y calcular el rendimiento anual que han tenido en los últimos 3 años\n",
        "* Plantear la función a optimizar que maximice el rendimiento\n",
        "* Evaluar las necesidades del portafolio para elaborar las restricciones con las que haremos el modelo\n",
        "* Obtener los montos necesarios a invertir para cada uno de los activos"
      ]
    },
    {
      "cell_type": "markdown",
      "id": "96dc032f-705d-4180-8622-e126027bc48f",
      "metadata": {
        "id": "96dc032f-705d-4180-8622-e126027bc48f"
      },
      "source": [
        "## 2.3 Modelo del programa"
      ]
    },
    {
      "cell_type": "markdown",
      "id": "2e403f1a-75b7-4a00-8b86-8377779dd1a2",
      "metadata": {
        "id": "2e403f1a-75b7-4a00-8b86-8377779dd1a2"
      },
      "source": [
        "Para generar el modelo que maximice los rendimientos se utilizarán los datos de los precios del cierre del día desde el 1 de enero del 2021 de los activos sacados de Yahoo finance.\n",
        "\n",
        "Las acciones con las que se trabajará en el portafolio son:\n",
        "* CMG: Chipotle Mexican Grill, es una cadena de restaurantes especializada en comida rápida de estilo mexicano, conocida por su enfoque en ingredientes frescos y sostenibles. Tiene una fuerte presencia en EE.UU. y continúa expandiéndose a nivel internacional.\n",
        "* COST: Costco, es una de las cadenas de almacenes más grandes del mundo, que opera bajo un modelo de membresía, vendiendo productos al por mayor. Es conocida por sus precios competitivos y su sólido crecimiento en ventas.\n",
        "* NVDA: Nvidia, es líder en el desarrollo de unidades de procesamiento gráfico (GPU) utilizadas en videojuegos, inteligencia artificial y procesamiento de datos. Su tecnología es fundamental en industrias emergentes como el metaverso y los vehículos autónomos.\n",
        "* OXY: Occidental Petroleum, es una empresa internacional de exploración y producción de petróleo y gas, con operaciones en EE.UU., Medio Oriente y América Latina. También invierte en tecnología de captura de carbono para reducir su huella ambiental.\n",
        "* NVO: Novo Nordisk, es una compañía farmacéutica danesa especializada en tratamientos para la diabetes y otros trastornos metabólicos. Es líder mundial en la producción de insulina y otras terapias innovadoras para el control de la glucosa.\n"
      ]
    },
    {
      "cell_type": "code",
      "execution_count": null,
      "id": "7fc91e3b-1096-42fd-8759-c8b3745e1dbc",
      "metadata": {
        "id": "7fc91e3b-1096-42fd-8759-c8b3745e1dbc"
      },
      "outputs": [],
      "source": [
        "import pandas as pd\n",
        "import numpy as np\n",
        "import matplotlib.pyplot as plt\n",
        "import yfinance as yf"
      ]
    },
    {
      "cell_type": "code",
      "execution_count": null,
      "id": "5521a3a1-f8bb-4ccb-8b39-4b9f1c736f63",
      "metadata": {
        "id": "5521a3a1-f8bb-4ccb-8b39-4b9f1c736f63",
        "outputId": "db4cd60d-06df-4d80-c8a8-11c6d1ff8ecd"
      },
      "outputs": [
        {
          "name": "stderr",
          "output_type": "stream",
          "text": [
            "[*********************100%***********************]  5 of 5 completed\n"
          ]
        },
        {
          "data": {
            "text/html": [
              "<div>\n",
              "<style scoped>\n",
              "    .dataframe tbody tr th:only-of-type {\n",
              "        vertical-align: middle;\n",
              "    }\n",
              "\n",
              "    .dataframe tbody tr th {\n",
              "        vertical-align: top;\n",
              "    }\n",
              "\n",
              "    .dataframe thead th {\n",
              "        text-align: right;\n",
              "    }\n",
              "</style>\n",
              "<table border=\"1\" class=\"dataframe\">\n",
              "  <thead>\n",
              "    <tr style=\"text-align: right;\">\n",
              "      <th>Ticker</th>\n",
              "      <th>CMG</th>\n",
              "      <th>COST</th>\n",
              "      <th>NVDA</th>\n",
              "      <th>NVO</th>\n",
              "      <th>OXY</th>\n",
              "    </tr>\n",
              "    <tr>\n",
              "      <th>Date</th>\n",
              "      <th></th>\n",
              "      <th></th>\n",
              "      <th></th>\n",
              "      <th></th>\n",
              "      <th></th>\n",
              "    </tr>\n",
              "  </thead>\n",
              "  <tbody>\n",
              "    <tr>\n",
              "      <th>2021-01-04 00:00:00+00:00</th>\n",
              "      <td>26.382401</td>\n",
              "      <td>362.045807</td>\n",
              "      <td>13.081202</td>\n",
              "      <td>33.694305</td>\n",
              "      <td>16.881639</td>\n",
              "    </tr>\n",
              "    <tr>\n",
              "      <th>2021-01-05 00:00:00+00:00</th>\n",
              "      <td>27.102200</td>\n",
              "      <td>357.845825</td>\n",
              "      <td>13.371737</td>\n",
              "      <td>33.382977</td>\n",
              "      <td>18.584316</td>\n",
              "    </tr>\n",
              "    <tr>\n",
              "      <th>2021-01-06 00:00:00+00:00</th>\n",
              "      <td>26.868200</td>\n",
              "      <td>352.398224</td>\n",
              "      <td>12.583434</td>\n",
              "      <td>32.515026</td>\n",
              "      <td>19.348581</td>\n",
              "    </tr>\n",
              "    <tr>\n",
              "      <th>2021-01-07 00:00:00+00:00</th>\n",
              "      <td>27.362801</td>\n",
              "      <td>350.398346</td>\n",
              "      <td>13.311136</td>\n",
              "      <td>33.062210</td>\n",
              "      <td>19.900019</td>\n",
              "    </tr>\n",
              "    <tr>\n",
              "      <th>2021-01-08 00:00:00+00:00</th>\n",
              "      <td>28.048800</td>\n",
              "      <td>352.322083</td>\n",
              "      <td>13.244050</td>\n",
              "      <td>33.142410</td>\n",
              "      <td>19.425978</td>\n",
              "    </tr>\n",
              "    <tr>\n",
              "      <th>...</th>\n",
              "      <td>...</td>\n",
              "      <td>...</td>\n",
              "      <td>...</td>\n",
              "      <td>...</td>\n",
              "      <td>...</td>\n",
              "    </tr>\n",
              "    <tr>\n",
              "      <th>2024-09-30 00:00:00+00:00</th>\n",
              "      <td>57.619999</td>\n",
              "      <td>886.520020</td>\n",
              "      <td>121.440002</td>\n",
              "      <td>119.070000</td>\n",
              "      <td>51.540001</td>\n",
              "    </tr>\n",
              "    <tr>\n",
              "      <th>2024-10-01 00:00:00+00:00</th>\n",
              "      <td>57.169998</td>\n",
              "      <td>877.380005</td>\n",
              "      <td>117.000000</td>\n",
              "      <td>118.010002</td>\n",
              "      <td>53.250000</td>\n",
              "    </tr>\n",
              "    <tr>\n",
              "      <th>2024-10-02 00:00:00+00:00</th>\n",
              "      <td>57.680000</td>\n",
              "      <td>878.530029</td>\n",
              "      <td>118.849998</td>\n",
              "      <td>116.480003</td>\n",
              "      <td>53.439999</td>\n",
              "    </tr>\n",
              "    <tr>\n",
              "      <th>2024-10-03 00:00:00+00:00</th>\n",
              "      <td>56.700001</td>\n",
              "      <td>875.669983</td>\n",
              "      <td>122.849998</td>\n",
              "      <td>115.080002</td>\n",
              "      <td>54.790001</td>\n",
              "    </tr>\n",
              "    <tr>\n",
              "      <th>2024-10-04 00:00:00+00:00</th>\n",
              "      <td>57.110001</td>\n",
              "      <td>883.109985</td>\n",
              "      <td>124.919998</td>\n",
              "      <td>115.120003</td>\n",
              "      <td>55.759998</td>\n",
              "    </tr>\n",
              "  </tbody>\n",
              "</table>\n",
              "<p>945 rows × 5 columns</p>\n",
              "</div>"
            ],
            "text/plain": [
              "Ticker                           CMG        COST        NVDA         NVO  \\\n",
              "Date                                                                       \n",
              "2021-01-04 00:00:00+00:00  26.382401  362.045807   13.081202   33.694305   \n",
              "2021-01-05 00:00:00+00:00  27.102200  357.845825   13.371737   33.382977   \n",
              "2021-01-06 00:00:00+00:00  26.868200  352.398224   12.583434   32.515026   \n",
              "2021-01-07 00:00:00+00:00  27.362801  350.398346   13.311136   33.062210   \n",
              "2021-01-08 00:00:00+00:00  28.048800  352.322083   13.244050   33.142410   \n",
              "...                              ...         ...         ...         ...   \n",
              "2024-09-30 00:00:00+00:00  57.619999  886.520020  121.440002  119.070000   \n",
              "2024-10-01 00:00:00+00:00  57.169998  877.380005  117.000000  118.010002   \n",
              "2024-10-02 00:00:00+00:00  57.680000  878.530029  118.849998  116.480003   \n",
              "2024-10-03 00:00:00+00:00  56.700001  875.669983  122.849998  115.080002   \n",
              "2024-10-04 00:00:00+00:00  57.110001  883.109985  124.919998  115.120003   \n",
              "\n",
              "Ticker                           OXY  \n",
              "Date                                  \n",
              "2021-01-04 00:00:00+00:00  16.881639  \n",
              "2021-01-05 00:00:00+00:00  18.584316  \n",
              "2021-01-06 00:00:00+00:00  19.348581  \n",
              "2021-01-07 00:00:00+00:00  19.900019  \n",
              "2021-01-08 00:00:00+00:00  19.425978  \n",
              "...                              ...  \n",
              "2024-09-30 00:00:00+00:00  51.540001  \n",
              "2024-10-01 00:00:00+00:00  53.250000  \n",
              "2024-10-02 00:00:00+00:00  53.439999  \n",
              "2024-10-03 00:00:00+00:00  54.790001  \n",
              "2024-10-04 00:00:00+00:00  55.759998  \n",
              "\n",
              "[945 rows x 5 columns]"
            ]
          },
          "execution_count": 74,
          "metadata": {},
          "output_type": "execute_result"
        }
      ],
      "source": [
        "def get_adj_closes(tickers, start_date=None, end_date=None):\n",
        "    data = yf.download(tickers, start=start_date, end=end_date)\n",
        "\n",
        "    closes = data['Adj Close']\n",
        "    return closes\n",
        "\n",
        "tickers = ['CMG', 'COST', 'NVDA','OXY','NVO']\n",
        "start_date = '2021-01-01'\n",
        "closes = get_adj_closes(tickers=tickers, start_date=start_date)\n",
        "closes"
      ]
    },
    {
      "cell_type": "code",
      "execution_count": null,
      "id": "8b0090c8-c2a6-4ed2-8761-781ee3c490f5",
      "metadata": {
        "id": "8b0090c8-c2a6-4ed2-8761-781ee3c490f5",
        "outputId": "7fc7b48f-f50d-48da-9a9c-001117d67771"
      },
      "outputs": [
        {
          "data": {
            "text/html": [
              "<div>\n",
              "<style scoped>\n",
              "    .dataframe tbody tr th:only-of-type {\n",
              "        vertical-align: middle;\n",
              "    }\n",
              "\n",
              "    .dataframe tbody tr th {\n",
              "        vertical-align: top;\n",
              "    }\n",
              "\n",
              "    .dataframe thead th {\n",
              "        text-align: right;\n",
              "    }\n",
              "</style>\n",
              "<table border=\"1\" class=\"dataframe\">\n",
              "  <thead>\n",
              "    <tr style=\"text-align: right;\">\n",
              "      <th>Ticker</th>\n",
              "      <th>CMG</th>\n",
              "      <th>COST</th>\n",
              "      <th>NVDA</th>\n",
              "      <th>NVO</th>\n",
              "      <th>OXY</th>\n",
              "    </tr>\n",
              "    <tr>\n",
              "      <th>Date</th>\n",
              "      <th></th>\n",
              "      <th></th>\n",
              "      <th></th>\n",
              "      <th></th>\n",
              "      <th></th>\n",
              "    </tr>\n",
              "  </thead>\n",
              "  <tbody>\n",
              "    <tr>\n",
              "      <th>2021-01-05 00:00:00+00:00</th>\n",
              "      <td>0.027283</td>\n",
              "      <td>-0.011601</td>\n",
              "      <td>0.022210</td>\n",
              "      <td>-0.009240</td>\n",
              "      <td>0.100860</td>\n",
              "    </tr>\n",
              "    <tr>\n",
              "      <th>2021-01-06 00:00:00+00:00</th>\n",
              "      <td>-0.008634</td>\n",
              "      <td>-0.015223</td>\n",
              "      <td>-0.058953</td>\n",
              "      <td>-0.026000</td>\n",
              "      <td>0.041124</td>\n",
              "    </tr>\n",
              "    <tr>\n",
              "      <th>2021-01-07 00:00:00+00:00</th>\n",
              "      <td>0.018408</td>\n",
              "      <td>-0.005675</td>\n",
              "      <td>0.057830</td>\n",
              "      <td>0.016829</td>\n",
              "      <td>0.028500</td>\n",
              "    </tr>\n",
              "    <tr>\n",
              "      <th>2021-01-08 00:00:00+00:00</th>\n",
              "      <td>0.025070</td>\n",
              "      <td>0.005490</td>\n",
              "      <td>-0.005040</td>\n",
              "      <td>0.002426</td>\n",
              "      <td>-0.023821</td>\n",
              "    </tr>\n",
              "    <tr>\n",
              "      <th>2021-01-11 00:00:00+00:00</th>\n",
              "      <td>0.000128</td>\n",
              "      <td>-0.016030</td>\n",
              "      <td>0.025967</td>\n",
              "      <td>0.002277</td>\n",
              "      <td>0.000000</td>\n",
              "    </tr>\n",
              "  </tbody>\n",
              "</table>\n",
              "</div>"
            ],
            "text/plain": [
              "Ticker                          CMG      COST      NVDA       NVO       OXY\n",
              "Date                                                                       \n",
              "2021-01-05 00:00:00+00:00  0.027283 -0.011601  0.022210 -0.009240  0.100860\n",
              "2021-01-06 00:00:00+00:00 -0.008634 -0.015223 -0.058953 -0.026000  0.041124\n",
              "2021-01-07 00:00:00+00:00  0.018408 -0.005675  0.057830  0.016829  0.028500\n",
              "2021-01-08 00:00:00+00:00  0.025070  0.005490 -0.005040  0.002426 -0.023821\n",
              "2021-01-11 00:00:00+00:00  0.000128 -0.016030  0.025967  0.002277  0.000000"
            ]
          },
          "execution_count": 75,
          "metadata": {},
          "output_type": "execute_result"
        }
      ],
      "source": [
        "ret = closes.pct_change().dropna()\n",
        "ret.head()"
      ]
    },
    {
      "cell_type": "code",
      "execution_count": null,
      "id": "a2813dec-f997-43b0-a459-2aff2bb50539",
      "metadata": {
        "id": "a2813dec-f997-43b0-a459-2aff2bb50539",
        "outputId": "fb2f6a23-b34e-4e51-b8cd-0833204f9047"
      },
      "outputs": [
        {
          "data": {
            "text/html": [
              "<div>\n",
              "<style scoped>\n",
              "    .dataframe tbody tr th:only-of-type {\n",
              "        vertical-align: middle;\n",
              "    }\n",
              "\n",
              "    .dataframe tbody tr th {\n",
              "        vertical-align: top;\n",
              "    }\n",
              "\n",
              "    .dataframe thead th {\n",
              "        text-align: right;\n",
              "    }\n",
              "</style>\n",
              "<table border=\"1\" class=\"dataframe\">\n",
              "  <thead>\n",
              "    <tr style=\"text-align: right;\">\n",
              "      <th>Ticker</th>\n",
              "      <th>CMG</th>\n",
              "      <th>COST</th>\n",
              "      <th>NVDA</th>\n",
              "      <th>NVO</th>\n",
              "      <th>OXY</th>\n",
              "    </tr>\n",
              "  </thead>\n",
              "  <tbody>\n",
              "    <tr>\n",
              "      <th>media</th>\n",
              "      <td>0.255238</td>\n",
              "      <td>0.264823</td>\n",
              "      <td>0.745369</td>\n",
              "      <td>0.372662</td>\n",
              "      <td>0.417461</td>\n",
              "    </tr>\n",
              "  </tbody>\n",
              "</table>\n",
              "</div>"
            ],
            "text/plain": [
              "Ticker       CMG      COST      NVDA       NVO       OXY\n",
              "media   0.255238  0.264823  0.745369  0.372662  0.417461"
            ]
          },
          "execution_count": 76,
          "metadata": {},
          "output_type": "execute_result"
        }
      ],
      "source": [
        "summary_annual = pd.DataFrame({\n",
        "    \"media\": ret.mean() * 252,\n",
        "}).T\n",
        "summary_annual"
      ]
    },
    {
      "cell_type": "markdown",
      "id": "6169faa7-1327-47e6-afbd-bdb8dabfc970",
      "metadata": {
        "id": "6169faa7-1327-47e6-afbd-bdb8dabfc970"
      },
      "source": [
        "### Función a optimizar"
      ]
    },
    {
      "cell_type": "markdown",
      "id": "35bf8c06-6b4a-485c-abef-9a79dd4eef3e",
      "metadata": {
        "id": "35bf8c06-6b4a-485c-abef-9a79dd4eef3e"
      },
      "source": [
        "Dado los rendimientos anuales de cada uno de los activos vamos a maximizar el portafolio con esta función:\n",
        "$$ R_{max} = 0.2552CMG + 0.2648COST + 0.7453NVDA + 0.3726NVO + 0.4174OXY $$\n",
        "\n",
        "Cada uno de los rendimientos se multiplicará por la cantidad de dinero que invertiremos en los activos para juntos se maximice el rendimiento del portafolio, el tamaño del portafolio será de $1,000,000\n",
        "\n",
        "\n",
        "Las variables que podemos controlar son las cantidades a invertir por cada activo por lo que generaremos restricciones para invertir cierta cantidad mínima en cada uno, por lo que podemos resolverlo con programación lineal. Pondremos mínimo el 10% para cada activo y como máximo 50% solo a Nvidia por ser la acción con mayor riesgo.\n",
        "\n",
        "Restricciones:\n",
        "$$ CMG + COST + NVDA + NVO + OXY = 1000000 $$\n",
        "$$ CMG \\geq 100000 $$\n",
        "$$ COST \\geq 100000 $$\n",
        "$$ NVDA \\geq 100000 $$\n",
        "$$ NVDA \\leq 500000 $$\n",
        "$$ NVO \\geq 100000 $$\n",
        "$$ OXY \\geq 100000 $$"
      ]
    },
    {
      "cell_type": "markdown",
      "id": "23230e2a-6a6e-4275-bda4-ea688bf741d3",
      "metadata": {
        "id": "23230e2a-6a6e-4275-bda4-ea688bf741d3"
      },
      "source": [
        "La limitación de nuestro modelo es que solo se busca maximizar el modelo, no tomamos en cuenta el riesgo no sistemático, además de las perspectivas macroeconómicas del país de residencia de los activos que es Estados Unidos.\n",
        "Seleccionamos estas empresas por un análisis fundamental basado en sus reportes financieros y con el crecimiento constante de EPS y ventas en cada trimestre, además de la correlación que los acitvos tienen entre sí."
      ]
    },
    {
      "cell_type": "markdown",
      "id": "9b0de048-b835-4001-91f5-899f628c95b1",
      "metadata": {
        "id": "9b0de048-b835-4001-91f5-899f628c95b1"
      },
      "source": [
        "Las restricciones se hicieron de forma que el sector con mayor potencial de crecimento en los próximos años tenga el mayor peso pero no más del 50% del portafolio que implicaría no estar diversificado, los otros sectores con un mínimo de 10% para que tengan una ponderación de minima importante y diversifiquen el portafolio total."
      ]
    },
    {
      "cell_type": "markdown",
      "id": "b3e8a579-03fa-46d8-a843-4d010cd7c097",
      "metadata": {
        "id": "b3e8a579-03fa-46d8-a843-4d010cd7c097"
      },
      "source": [
        "### Matriz de correlación con mapa de calor"
      ]
    },
    {
      "cell_type": "code",
      "execution_count": null,
      "id": "6460bdd4-328d-4145-8c1d-a04806d4557b",
      "metadata": {
        "id": "6460bdd4-328d-4145-8c1d-a04806d4557b",
        "outputId": "42d5210a-0551-4e53-a573-5ddd22dda22d"
      },
      "outputs": [
        {
          "name": "stdout",
          "output_type": "stream",
          "text": [
            "Matriz de correlación:\n",
            "Ticker       CMG      COST      NVDA       NVO       OXY\n",
            "Ticker                                                  \n",
            "CMG     1.000000  0.407217  0.489653  0.217358  0.126631\n",
            "COST    0.407217  1.000000  0.443188  0.247590  0.100320\n",
            "NVDA    0.489653  0.443188  1.000000  0.267567  0.146207\n",
            "NVO     0.217358  0.247590  0.267567  1.000000  0.024830\n",
            "OXY     0.126631  0.100320  0.146207  0.024830  1.000000\n"
          ]
        },
        {
          "data": {
            "image/png": "[encoded data removed]",
            "text/plain": [
              "<Figure size 800x600 with 2 Axes>"
            ]
          },
          "metadata": {},
          "output_type": "display_data"
        }
      ],
      "source": [
        "import seaborn as sns\n",
        "returns = closes.pct_change().dropna()\n",
        "\n",
        "correlation_matrix = returns.corr()\n",
        "print(\"Matriz de correlación:\")\n",
        "print(correlation_matrix)\n",
        "\n",
        "plt.figure(figsize=(8, 6))\n",
        "sns.heatmap(correlation_matrix, annot=True, cmap=\"coolwarm\", linewidths=0.8)\n",
        "plt.title(\"Matriz de correlación entre los activos\")\n",
        "plt.show()"
      ]
    },
    {
      "cell_type": "markdown",
      "id": "5b644a8b-2bcc-48e8-aaf8-64d1c3b741a7",
      "metadata": {
        "id": "5b644a8b-2bcc-48e8-aaf8-64d1c3b741a7"
      },
      "source": [
        "Sectores de los activos:\n",
        "* CMG (Chipotle Mexican Grill): Consumo Discrecional en el sector de alimentos y restaurantes.\n",
        "* COST (Costco Wholesale): Consumo Defensivo en el sector de venta minorista y almacenes.\n",
        "* NVDA (NVIDIA Corporation): Tecnología en el sector de semiconductores y tecnología, con foco en inteligencia artificial y gráficos.\n",
        "* NVO (Novo Nordisk): Salud en el sector farmacéutico, especializado en tratamientos para la diabetes y otras enfermedades crónicas.\n",
        "* OXY (Occidental Petroleum): Energía en el sector energético, específicamente petróleo y gas.\n",
        "\n",
        "La cartera que hemos creado abarca una buena diversidad de sectores: consumo discrecional, consumo defensivo, tecnología, salud y energía. Esta diversidad sectorial es importante porque diferentes sectores tienden a comportarse de manera distinta en distintas fases del ciclo económico. Por ejemplo, el sector de tecnología (NVDA) puede ser más volátil, mientras que los sectores de salud (NVO) y consumo defensivo (COST) tienden a ser más estables en tiempos de crisis.\n",
        "\n",
        "Para hace énfasis en la correlación y diversificación, el análisis entre estos activos nos da una idea de qué tan alineados están los movimientos de precios entre ellos.\n",
        "\n",
        "Para entender las correlaciones bajas o negativas sugieren que los activos tienden a moverse en direcciones opuestas o sin una relación fuerte, lo que es deseable en una cartera diversificada, ya que reduce el riesgo total. Por ejemplo, si uno de los activos del sector energético (OXY) cae por una crisis en los precios del petróleo, los otros activos en tecnología, salud o consumo pueden comportarse de manera diferente, protegiendo la cartera.\n",
        "Correlaciones altas sugieren que los activos tienden a moverse en la misma dirección, lo que puede aumentar el riesgo en períodos de volatilidad si todos caen al mismo tiempo.\n",
        "\n",
        "Todos nuestros activos tienen una correlación menor a 0.5, lo que significa que estamos diversifacados de buena manera, y la mayoría son menores a 0.3 lo que es aún mejor para la diversificación"
      ]
    },
    {
      "cell_type": "markdown",
      "id": "425a2eb5-e03d-473b-b8dd-465e8b161d4e",
      "metadata": {
        "id": "425a2eb5-e03d-473b-b8dd-465e8b161d4e"
      },
      "source": [
        "## 2.4 Solución del problema de optimización"
      ]
    },
    {
      "cell_type": "code",
      "execution_count": null,
      "id": "4413b5f0-5029-4058-af16-9e77051d544e",
      "metadata": {
        "id": "4413b5f0-5029-4058-af16-9e77051d544e",
        "outputId": "0ba044b8-e9f4-4cdf-8d87-05ab08138a4d"
      },
      "outputs": [
        {
          "data": {
            "text/plain": [
              "        message: Optimization terminated successfully. (HiGHS Status 7: Optimal)\n",
              "        success: True\n",
              "         status: 0\n",
              "            fun: -545449.0\n",
              "              x: [ 1.000e+05  1.000e+05  5.000e+05  1.000e+05  2.000e+05]\n",
              "            nit: 0\n",
              "          lower:  residual: [ 1.000e+05  1.000e+05  5.000e+05  1.000e+05\n",
              "                              2.000e+05]\n",
              "                 marginals: [ 0.000e+00  0.000e+00  0.000e+00  0.000e+00\n",
              "                              0.000e+00]\n",
              "          upper:  residual: [       inf        inf        inf        inf\n",
              "                                    inf]\n",
              "                 marginals: [ 0.000e+00  0.000e+00  0.000e+00  0.000e+00\n",
              "                              0.000e+00]\n",
              "          eqlin:  residual: [ 0.000e+00]\n",
              "                 marginals: [-4.175e-01]\n",
              "        ineqlin:  residual: [ 0.000e+00  0.000e+00  4.000e+05  0.000e+00\n",
              "                              0.000e+00  1.000e+05]\n",
              "                 marginals: [-1.622e-01 -1.526e-01 -0.000e+00 -3.279e-01\n",
              "                             -4.480e-02 -0.000e+00]\n",
              " mip_node_count: 0\n",
              " mip_dual_bound: 0.0\n",
              "        mip_gap: 0.0"
            ]
          },
          "execution_count": 77,
          "metadata": {},
          "output_type": "execute_result"
        }
      ],
      "source": [
        "import numpy as np\n",
        "import scipy.optimize as opt\n",
        "R=np.array([-0.255238,\n",
        "            -0.264823,\n",
        "            -0.745369,\n",
        "            -0.372662,\n",
        "            -0.417461])\n",
        "\n",
        "Aub=np.array([\n",
        "    [-1, 0, 0, 0, 0],\n",
        "    [0, -1, 0, 0, 0],\n",
        "    [0, 0, -1, 0, 0],\n",
        "    [0, 0, 1, 0, 0],\n",
        "    [0, 0, 0, -1, 0],\n",
        "    [0, 0, 0, 0, -1]\n",
        "])\n",
        "\n",
        "bub=np.array([-100000,\n",
        "              -100000,\n",
        "              -100000,\n",
        "              500000,\n",
        "              -100000,\n",
        "              -100000,])\n",
        "\n",
        "A_eq=np.array([\n",
        "    [1, 1, 1, 1, 1]\n",
        "])\n",
        "\n",
        "beq = np.array([1000000])\n",
        "\n",
        "sol = opt.linprog (R, Aub, bub, A_eq, beq)\n",
        "sol"
      ]
    },
    {
      "cell_type": "markdown",
      "id": "5b6d4d65-2e8a-40a5-90c8-f454bf8ea8f4",
      "metadata": {
        "id": "5b6d4d65-2e8a-40a5-90c8-f454bf8ea8f4"
      },
      "source": [
        "Como resultado de nuestro modelo obtuvimos:"
      ]
    },
    {
      "cell_type": "markdown",
      "id": "ab2c8239-79be-46ed-b8da-a62598dc4729",
      "metadata": {
        "id": "ab2c8239-79be-46ed-b8da-a62598dc4729"
      },
      "source": [
        "* 10% en CMG que serán $100,000\n",
        "   \n",
        "* 10% en COST que serán $100,000\n",
        "  \n",
        "* 50% en NVDA que serán $500,000\n",
        "  \n",
        "* 10% en NVO que serán $200,000\n",
        "  \n",
        "* 20% en OXY que serán $100,000"
      ]
    },
    {
      "cell_type": "markdown",
      "id": "33151214-a8f8-4df5-a268-27e9960878bd",
      "metadata": {
        "id": "33151214-a8f8-4df5-a268-27e9960878bd"
      },
      "source": [
        "Se condujo a una solución factible que demuestra que nuestro modelo es congruente y busca el maximiento rendimiento esperado con el portafolio armado"
      ]
    },
    {
      "cell_type": "markdown",
      "id": "abfcd49a-a95c-42fb-aa74-44ed6e74eaef",
      "metadata": {
        "id": "abfcd49a-a95c-42fb-aa74-44ed6e74eaef"
      },
      "source": [
        "## 2.5 Visualización de la solución del problema"
      ]
    },
    {
      "cell_type": "code",
      "execution_count": null,
      "id": "b343c755-c8fa-4b77-a76b-d5782a453687",
      "metadata": {
        "id": "b343c755-c8fa-4b77-a76b-d5782a453687",
        "outputId": "7501847b-b885-4c87-b42e-c1979af2b7ae"
      },
      "outputs": [
        {
          "data": {
            "image/png": "[encoded data removed]",
            "text/plain": [
              "<Figure size 640x480 with 1 Axes>"
            ]
          },
          "metadata": {},
          "output_type": "display_data"
        }
      ],
      "source": [
        "import matplotlib.pyplot as plt\n",
        "plt.title('Porecentaje de inversión para cada acción')\n",
        "activos = [100000,100000,500000,100000,200000]\n",
        "nombres = [\"CMG\",\"COST\",\"NVDA\",\"NVO\",\"OXY\"]\n",
        "colores = [\"#006630\", \"#006630\", \"#66ff66\", \"#006630\", \"#33cc33\"]\n",
        "desfase = (0.05, 0.05, 0.1, 0.05, 0.05)\n",
        "plt.pie(activos, labels=nombres, autopct=\"%0.1f %%\", colors=colores, explode=desfase)\n",
        "plt.axis(\"equal\")\n",
        "plt.show()"
      ]
    },
    {
      "cell_type": "markdown",
      "id": "a46a8cb3-d6a2-441c-952c-e469a1e7f24a",
      "metadata": {
        "id": "a46a8cb3-d6a2-441c-952c-e469a1e7f24a"
      },
      "source": [
        "## 2.6 Conclusiones"
      ]
    },
    {
      "cell_type": "markdown",
      "id": "c3b893ef-ca12-4ec5-b621-381ec8a539fb",
      "metadata": {
        "id": "c3b893ef-ca12-4ec5-b621-381ec8a539fb"
      },
      "source": [
        "Finalmente, se puede concluir que se logró encontrar el portafolio de inversión que maximiza las ganancias de la cartera propuesta utilizando la función de costo, la cual fue planteada con los rendimientos anuales de los activos Chipotle Mexican Grill (CMG), Costco Wholesale Corporation (COST), NVIDIA Corporation (NVDA), Novo Nordisk (NVO), y Occidental Petroleum Corporation (OXY).\n",
        "\n",
        "Con un capital disponible de 1,000,000, del cual se colocó en el activo de mayor peso un total del 50%, y al menos el 10% en cada uno de los demás activos, la optimización arrojó que se debe invertir 500,000 en NVDA; 100,000 en CMG, COST y NVO y 200,000 en OXY para obtener un rendimiento máximo en la cartera de inversión. Este resultado es coherente con las expectativas planteadas para este problema."
      ]
    },
    {
      "cell_type": "markdown",
      "id": "c7d5fb66-5080-4e7d-85aa-60858c93b8ff",
      "metadata": {
        "id": "c7d5fb66-5080-4e7d-85aa-60858c93b8ff"
      },
      "source": [
        "### Backtesting"
      ]
    },
    {
      "cell_type": "markdown",
      "id": "7eebc76c-016e-44a3-b46c-a5d707f53bce",
      "metadata": {
        "id": "7eebc76c-016e-44a3-b46c-a5d707f53bce"
      },
      "source": [
        "El backtesting es una técnica fundamental en las finanzas que permite evaluar el rendimiento histórico de una estrategia de inversión simulando su comportamiento en el pasado.\n",
        "Como vemos en las gráficas el resultado de nuestra estrategia comparado al de solo el rendimiento del benchmark que en este caso sería el S&P 500"
      ]
    },
    {
      "cell_type": "code",
      "execution_count": null,
      "id": "8880d97f-5575-44f8-95ef-6879c09c26f9",
      "metadata": {
        "id": "8880d97f-5575-44f8-95ef-6879c09c26f9",
        "outputId": "6e01d4a5-c8c7-4630-f590-3759b4f915d7"
      },
      "outputs": [
        {
          "name": "stderr",
          "output_type": "stream",
          "text": [
            "[*********************100%***********************]  6 of 6 completed\n"
          ]
        },
        {
          "data": {
            "image/png": "[encoded data removed]",
            "text/plain": [
              "<Figure size 1000x600 with 1 Axes>"
            ]
          },
          "metadata": {},
          "output_type": "display_data"
        },
        {
          "name": "stdout",
          "output_type": "stream",
          "text": [
            "Valor final del S&P500: $1,639,560.70\n",
            "Valor final del portafolio: $6,237,267.22\n"
          ]
        }
      ],
      "source": [
        "tickers = ['CMG', 'COST', 'NVDA', 'NVO', 'OXY', 'SPY']\n",
        "start_date = '2021-01-01'\n",
        "data = yf.download(tickers, start=start_date)\n",
        "closes = data['Adj Close']\n",
        "\n",
        "ponderaciones = [0.1, 0.1, 0.5, 0.2, 0.1, 0]\n",
        "inversion_inicial = 1000000\n",
        "closes_normalized = closes / closes.iloc[0]\n",
        "\n",
        "valores_diarios_cartera = closes_normalized.mul(ponderaciones, axis=1).sum(axis=1) * inversion_inicial\n",
        "\n",
        "sp500_normalized = closes['SPY'] / closes['SPY'].iloc[0] * inversion_inicial\n",
        "\n",
        "plt.figure(figsize=(10,6))\n",
        "plt.plot(valores_diarios_cartera, label='Valor de la cartera', color='blue')\n",
        "plt.plot(sp500_normalized, label='S&P 500 (SPY)', color='orange')\n",
        "plt.title('Comparación de una inversión de $1,000,000 vs S&P 500 desde el 1 de enero de 2021')\n",
        "plt.xlabel('Fecha')\n",
        "plt.ylabel('Valor (USD)')\n",
        "plt.grid()\n",
        "plt.legend()\n",
        "plt.show()\n",
        "print(f\"Valor final del S&P500: ${spy_value.iloc[-1]:,.2f}\")\n",
        "print(f\"Valor final del portafolio: ${portfolio_value.iloc[-1]:,.2f}\")"
      ]
    },
    {
      "cell_type": "markdown",
      "id": "ba266e5a-ce7e-424c-aeb9-6c801ec7da8f",
      "metadata": {
        "id": "ba266e5a-ce7e-424c-aeb9-6c801ec7da8f"
      },
      "source": [
        "El backtesting ha demostrado que nuestro portafolio de inversión habría funcionado bien, señalando que una concentración tan grande en un solo activo puede ser riesgosa tomando el potencial de NVIDIA decidimos optar por seguir estando con mayor peso debido a sus expectativas de crecimiento. Además, si el S&P 500 ha tenido un rendimiento cercano o mejor que tu estrategia, podría ser preferible optar por una inversión pasiva en el índice, ya que reduce el riesgo y el esfuerzo de selección de activos. Aunque los rendmientos no son comporables pues lo superamos con una diferencia muy grande, eso justifica las decisiones de selección y ponderación de activos."
      ]
    },
    {
      "cell_type": "markdown",
      "id": "fa39ad1f-27d4-46c4-a547-6e56e22be907",
      "metadata": {
        "id": "fa39ad1f-27d4-46c4-a547-6e56e22be907"
      },
      "source": [
        "## 2.7 Referencias\n",
        "Chipotle Mexican Grill. (n.d.). Company overview. Chipotle Mexican Grill, Inc. Retrieved from https://www.chipotle.com\n",
        "\n",
        "Costco Wholesale Corporation. (n.d.). Company profile. Costco Wholesale. Retrieved from https://www.costco.com\n",
        "\n",
        "Nvidia Corporation. (n.d.). About us. Nvidia Corporation. Retrieved from https://www.nvidia.com\n",
        "\n",
        "Occidental Petroleum Corporation. (n.d.). About us. Occidental Petroleum. Retrieved from https://www.oxy.com\n",
        "\n",
        "Novo Nordisk A/S. (n.d.). Company profile. Novo Nordisk. Retrieved from https://www.novonordisk.com"
      ]
    },
    {
      "cell_type": "code",
      "execution_count": null,
      "id": "99140d11-d29d-4960-a6ef-ecb7837d2c2a",
      "metadata": {
        "id": "99140d11-d29d-4960-a6ef-ecb7837d2c2a"
      },
      "outputs": [],
      "source": []
    }
  ],
  "metadata": {
    "kernelspec": {
      "display_name": "Python 3 (ipykernel)",
      "language": "python",
      "name": "python3"
    },
    "language_info": {
      "codemirror_mode": {
        "name": "ipython",
        "version": 3
      },
      "file_extension": ".py",
      "mimetype": "text/x-python",
      "name": "python",
      "nbconvert_exporter": "python",
      "pygments_lexer": "ipython3",
      "version": "3.12.4"
    },
    "colab": {
      "provenance": [],
      "include_colab_link": true
    }
  },
  "nbformat": 4,
  "nbformat_minor": 5
}